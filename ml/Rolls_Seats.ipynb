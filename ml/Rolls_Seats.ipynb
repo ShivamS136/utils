{
  "nbformat": 4,
  "nbformat_minor": 0,
  "metadata": {
    "colab": {
      "name": "Rolls-Seats.ipynb",
      "provenance": [],
      "collapsed_sections": [],
      "include_colab_link": true
    },
    "kernelspec": {
      "name": "python3",
      "display_name": "Python 3"
    },
    "accelerator": "GPU"
  },
  "cells": [
    {
      "cell_type": "markdown",
      "metadata": {
        "id": "view-in-github",
        "colab_type": "text"
      },
      "source": [
        "<a href=\"https://colab.research.google.com/github/paras-lehana/utils/blob/master/ml/Rolls_Seats.ipynb\" target=\"_parent\"><img src=\"https://colab.research.google.com/assets/colab-badge.svg\" alt=\"Open In Colab\"/></a>"
      ]
    },
    {
      "cell_type": "markdown",
      "metadata": {
        "id": "zMxx_7vQAlRh",
        "colab_type": "text"
      },
      "source": [
        "# Seats & Roll No. Problem\n",
        "\n",
        "---\n",
        "\n",
        "- This problem is also known as **Airplane Probability Problem**. A nice explanation and solution [here](https://medium.com/i-math/solving-an-advanced-probability-problem-with-virtually-no-math-5750707885f1). \n",
        "\n",
        "- As per the question framed by Saurabh Singal Sir: *26 students with assigned roll numbers from 0 to 25 enters a class room with exactly 26 seats. Every seat has a label which represents the roll number of the student the seat is assigned to. However, the first student has a chance to either take his own seat or otherwise, takes a random seat. Every subsequent student attempts to choose their own seat, but takes a random seat if their’s is taken. What is the probability that the last student will get his assigned seat?* \n",
        "\n",
        "- Airplane Probability Problem assumes that the first person has forgotten his boarding pass and sits on any random seat. However, the framed problem was solved assuming that the **first student has equal probabilities of choosing his assigned seat or any other seat** (50% of choosing his seat). \n",
        "\n",
        "- I have now added commented snippet that assumes the probability as provided by Airplane Problem, that is, the first student randomly chooses any seat. \n",
        "\n"
      ]
    },
    {
      "cell_type": "markdown",
      "metadata": {
        "id": "qPYXo0wBC3au",
        "colab_type": "text"
      },
      "source": [
        "Although this simulation converges at the required probability at higher number of iterations, go through the various solutions to Airplane Problem [here](https://www.cut-the-knot.org/Probability/LostPass.shtml). Also, mentioning the most valid solution I have found:\n",
        "\n",
        "![Maths Solution](https://lh3.googleusercontent.com/qRvaDmIE2IBzSyV0aTVldi6VlGz3x9pAgS3jOtEwAXMFJyasU34nESKdWP0Lw6cC_EC4uhki2XG2c_5NftamJgpGKTYO3PLOAgR6EVwKoaFcO24LH4u6hw4olAv010iN-cCzDHQF2zU=w2400)\n",
        "\n",
        "I have made a **generalized formula** including n,p where n is the number of students and p is the probability of first student to choose the assigned seat:\n",
        "\n",
        ">$P = p*1 + (1-p)*\\frac{n-2}{n-1}*\\frac{1}{2} = \\frac{np + n - 2}{2(n-1)}$\n",
        "\n",
        "The first part says that if first student sits on the assigned seat, then the last person's seat will be unoccupied as everyone will sit on their assigned seats. The case in which the first person sits on last student's seat is not included due to multiplication by 0 (last student seat would be occupied). The second part says that if the first person choose any seat but first and last, the student who was assigned the seat and chooses either first or last seat would do that with same probabilities. If this student had decided to choose any seat but first and last, then this would not hamper the probability for last person. Also, after this student decides to choose either of first or last seat, the whole case is sorted - the next students will choose their assigned seats. \n",
        "\n",
        "- For Airplane Problem p = 1/n, thus the P = 1/2 or 50%. This doesn't depend on n. \n",
        "- For problem given by Saurabh Singal sir, p = 1/2, thus P = **74%** for n = 26. The higher n, the closer is P towards 75%. \n",
        "\n"
      ]
    },
    {
      "cell_type": "markdown",
      "metadata": {
        "id": "M7TfiIvsJyrx",
        "colab_type": "text"
      },
      "source": [
        "\n",
        "Coming to the simulation part, go through comments for the flow. I'm describing options here:\n",
        "\n",
        "- Change `max_iterations` for number of trails from starting. Higher the iterations, higher the precision. 10K is a good start.\n",
        "- Set `show_iterations` if you want to see the assigned roll numbers, seat occupancy status and mapping of students to seats for each sub iteration. \n",
        "- If you want to run simulation according to probabilities assumed by Airplane Problem, set `FirstForgetsRollNo` as True. In this case, answer is 50% and it doesn't depend on `total_persons`."
      ]
    },
    {
      "cell_type": "code",
      "metadata": {
        "id": "y-XUGzRmzBFu",
        "colab_type": "code",
        "outputId": "9d58da6d-81ce-4c18-ff4e-55c181820c94",
        "colab": {
          "base_uri": "https://localhost:8080/",
          "height": 34
        }
      },
      "source": [
        "#For random simulation - uniform distribution for choosing seats.\n",
        "import random\n",
        "\n",
        "#For rounding off random number generations to Integers\n",
        "import math\n",
        "\n",
        "# Higher the iterations, higher the precision. Signifies epoch.\n",
        "max_iterations = 10000;\n",
        "\n",
        "# Set to True if you want to see the assigned roll numbers, seat occupancy status and mapping of students to seats for each sub iteration.\n",
        "show_iterations = False;\n",
        "\n",
        "# If set to True, the first student is assumed to forget his roll no and randomly sits on any seat (Airplane Problem).\n",
        "# If False, he either choose (with equal probability i.e 50%) to sit on his seat or any random besides his own seat.\n",
        "FirstForgetsRollNo = False;\n",
        "\n",
        "# Counter for the epochs where last student sits on his assigned seat.\n",
        "lastSeatCorrect = 0.0;\n",
        "\n",
        "# Total number of students and chairs in the class. Just to tell, if count of chair is more than the students, P is higher. \n",
        "total_persons = 26;\n",
        "\n",
        "# Epoch\n",
        "for iteration in range(max_iterations):\n",
        "  \n",
        "  # Shuffled array mapping of person to roll no. Person i has roll no rollno[i]. \n",
        "  rollno = list(range(total_persons))\n",
        "  random.shuffle(rollno)\n",
        "  \n",
        "  # Array mapping of seat label to roll no if occupied else -1. Seat Labelled i is occupied by seat[i]. If seat[i] = -1, it's unoccupied.\n",
        "  # Seat Label i signifies the roll no whom the seat is assigned to. Filling with -1 initially.\n",
        "  seat = [-1]*total_persons\n",
        "  \n",
        "  if show_iterations:\n",
        "    print('Iteration #',iteration,':\\n\\n')\n",
        "    print('Roll No (person -> rollno):', rollno)\n",
        "      \n",
        "  if FirstForgetsRollNo:\n",
        "    # Randomly choose any seat. \n",
        "    seat_label = int(math.floor(random.uniform(0,total_persons)))\n",
        "  else:    \n",
        "    if random.random() < 0.5:\n",
        "      \n",
        "      # The case first student chooses his assigned seat.\n",
        "      seat_label = rollno[0]\n",
        "      \n",
        "    else:\n",
        "      \n",
        "      # Else choose from the remaining seats randomly. \n",
        "      seat_label = int(math.floor(random.uniform(0,total_persons-1)))\n",
        "      \n",
        "      # If randomness generate his assinged seat's label, assign him the last seat. #Jugaad\n",
        "      if seat_label == rollno[0]:\n",
        "        seat_label = total_persons-1\n",
        "  \n",
        "  # Allocate the seat with student roll number.\n",
        "  seat[seat_label] = rollno[0]\n",
        "  \n",
        "  if show_iterations:\n",
        "    print('Person #0 has Roll No',rollno[0],'and sits on Seat Label',seat_label)\n",
        "    print('Seat Occupancy (seat label -> roll no):',seat,'\\n')\n",
        "  \n",
        "  # Now process the remaining students. \n",
        "  for person in range(1,total_persons):\n",
        "    \n",
        "    # If his seat is not occupied, allocate his seat with his roll number.\n",
        "    if seat[rollno[person]] == -1:\n",
        "      seat_label = rollno[person]\n",
        "      seat[seat_label] = rollno[person]\n",
        "    \n",
        "    # If seat is occupied. \n",
        "    else:\n",
        "      # Choose any offset among total remaining seats\n",
        "      seat_label_offset = int(math.floor(random.uniform(0,total_persons-person)))\n",
        "      seat_label = 0\n",
        "      \n",
        "      # Not processing occupied seats, allocate him the (offset)th unoccupied seat\n",
        "      while seat_label < 26:\n",
        "        if seat[seat_label] == -1:\n",
        "          seat_label_offset -= 1\n",
        "          \n",
        "          if seat_label_offset == -1:\n",
        "            seat[seat_label] = rollno[person]\n",
        "            break\n",
        "            \n",
        "        seat_label += 1\n",
        "        \n",
        "    if show_iterations:\n",
        "      print('Person #',person,'has Roll No',rollno[person],'and sits on Seat Label',seat_label)\n",
        "      print('Seat Occupancy (seat label -> roll no):',seat,'\\n\\n')\n",
        "  \n",
        "  # If last student occupies his assigned seat.\n",
        "  if(seat[rollno[25]] == rollno[25]):\n",
        "    lastSeatCorrect += 1\n",
        "    \n",
        "    if show_iterations:\n",
        "      print(\"Last Seat Correct\")\n",
        "\n",
        "# The probability of last student occupying his assign seat.       \n",
        "print(\"P = \",round(lastSeatCorrect/max_iterations,4)*100,\"%\")        \n",
        "      \n",
        "      \n",
        "      \n",
        "      \n",
        "    \n",
        "    \n",
        "  "
      ],
      "execution_count": 7,
      "outputs": [
        {
          "output_type": "stream",
          "text": [
            "P =  73.91 %\n"
          ],
          "name": "stdout"
        }
      ]
    },
    {
      "cell_type": "code",
      "metadata": {
        "id": "c91yk4fRA8y8",
        "colab_type": "code",
        "colab": {}
      },
      "source": [
        ""
      ],
      "execution_count": 0,
      "outputs": []
    }
  ]
}