{
  "nbformat": 4,
  "nbformat_minor": 0,
  "metadata": {
    "colab": {
      "name": "SVD.ipynb",
      "version": "0.3.2",
      "provenance": [],
      "collapsed_sections": [],
      "include_colab_link": true
    },
    "kernelspec": {
      "name": "python3",
      "display_name": "Python 3"
    }
  },
  "cells": [
    {
      "cell_type": "markdown",
      "metadata": {
        "id": "view-in-github",
        "colab_type": "text"
      },
      "source": [
        "<a href=\"https://colab.research.google.com/github/paras-lehana/utils/blob/master/ml/SVD.ipynb\" target=\"_parent\"><img src=\"https://colab.research.google.com/assets/colab-badge.svg\" alt=\"Open In Colab\"/></a>"
      ]
    },
    {
      "cell_type": "markdown",
      "metadata": {
        "id": "EkGMM9YMCamJ",
        "colab_type": "text"
      },
      "source": [
        "*   **Import** `numpy` for defining arrays and doing array operations\n",
        "*   **Import** `linalg` in `numpy` for doing linear algebra over arrays - like computing eigen values"
      ]
    },
    {
      "cell_type": "code",
      "metadata": {
        "id": "emetdk-CGuKo",
        "colab_type": "code",
        "colab": {}
      },
      "source": [
        "import numpy as np\n",
        "from numpy import linalg as la\n",
        "\n",
        "import math"
      ],
      "execution_count": 0,
      "outputs": []
    },
    {
      "cell_type": "markdown",
      "metadata": {
        "id": "5TBd57wNC6Hc",
        "colab_type": "text"
      },
      "source": [
        "*The default function eig doesn't neccessary gives eigen values or vectors in order. So I have created a wrapper that sorts the values and vectors in descending order. This is requirement for SVD decomposition to U, S and V arrays.*"
      ]
    },
    {
      "cell_type": "code",
      "metadata": {
        "id": "BIC4L7py_UYQ",
        "colab_type": "code",
        "colab": {}
      },
      "source": [
        "def eigen(matrix):\n",
        "  \n",
        "  eigenValues, eigenVectors = la.eig(matrix)\n",
        "\n",
        "  idx = eigenValues.argsort()[::-1]\n",
        "  eigenValues = eigenValues[idx]\n",
        "  eigenVectors = eigenVectors[:,idx]\n",
        "  \n",
        "  return eigenValues, eigenVectors\n",
        "  "
      ],
      "execution_count": 0,
      "outputs": []
    },
    {
      "cell_type": "markdown",
      "metadata": {
        "id": "JHZP8rS7DTME",
        "colab_type": "text"
      },
      "source": [
        "\n",
        "*   Define array whose SVD composition is needed. \n",
        "*   Calculate dimension which would be needed to construct middle S vector (n x p)\n",
        "\n"
      ]
    },
    {
      "cell_type": "code",
      "metadata": {
        "id": "4_r939U2IFqq",
        "colab_type": "code",
        "colab": {}
      },
      "source": [
        "#matrixA = np.array([[1,0,1,0],[0,1,0,1]])\n",
        "matrixA = np.array([[2,4],[1,3],[0,0],[0,0]])\n",
        "#matrixA = np.array([[5,5],[-1,7]])\n",
        "#matrixA = np.array([[3,1,1],[-1,3,1]])\n",
        "\n",
        "#matrixA = np.array([[4,0],[3,-5]])\n",
        "n,p = np.shape(matrixA)"
      ],
      "execution_count": 0,
      "outputs": []
    },
    {
      "cell_type": "markdown",
      "metadata": {
        "id": "ZFdov-x-Dotd",
        "colab_type": "text"
      },
      "source": [
        "**Calculate AᵀA and AAᵀ.** "
      ]
    },
    {
      "cell_type": "code",
      "metadata": {
        "id": "ZnHOr6LjIxwI",
        "colab_type": "code",
        "outputId": "fca616d4-eb7a-4d6d-a039-84033181ebc9",
        "colab": {
          "base_uri": "https://localhost:8080/",
          "height": 493
        }
      },
      "source": [
        "print(\"\\n\\n-----------------\\n\\nMatrix A:\\n\")\n",
        "print(matrixA)\n",
        "\n",
        "matrixAAT = np.dot(matrixA,matrixA.transpose())\n",
        "matrixATA = np.dot(matrixA.transpose(),matrixA)\n",
        "\n",
        "print(\"\\n\\n-----------------\\n\\nMatrix AAT:\\n\")\n",
        "print(matrixAAT)\n",
        "print(\"\\n\\n-----------------\\n\\nMatrix ATA:\\n\")\n",
        "print(matrixATA)"
      ],
      "execution_count": 0,
      "outputs": [
        {
          "output_type": "stream",
          "text": [
            "\n",
            "\n",
            "-----------------\n",
            "\n",
            "Matrix A:\n",
            "\n",
            "[[2 4]\n",
            " [1 3]\n",
            " [0 0]\n",
            " [0 0]]\n",
            "\n",
            "\n",
            "-----------------\n",
            "\n",
            "Matrix AAT:\n",
            "\n",
            "[[20 14  0  0]\n",
            " [14 10  0  0]\n",
            " [ 0  0  0  0]\n",
            " [ 0  0  0  0]]\n",
            "\n",
            "\n",
            "-----------------\n",
            "\n",
            "Matrix ATA:\n",
            "\n",
            "[[ 5 11]\n",
            " [11 25]]\n"
          ],
          "name": "stdout"
        }
      ]
    },
    {
      "cell_type": "markdown",
      "metadata": {
        "id": "0KXDNdkKD7bk",
        "colab_type": "text"
      },
      "source": [
        "*Eigen vector of AAᵀ makes the column of vector U.*"
      ]
    },
    {
      "cell_type": "code",
      "metadata": {
        "colab_type": "code",
        "outputId": "f89e1272-b51c-4cea-b4c9-532f781d7c1e",
        "id": "fof9acwMUORZ",
        "colab": {
          "base_uri": "https://localhost:8080/",
          "height": 255
        }
      },
      "source": [
        "eigenValues, eigenVectors = eigen(matrixAAT)\n",
        "\n",
        "matrixU = eigenVectors\n",
        "print(\"\\nEigen Values:\\n\")\n",
        "print(eigenValues)\n",
        "\n",
        "print(\"\\n\\n-----------------\\n\\nMatrix U:\\n\")\n",
        "print(matrixU)"
      ],
      "execution_count": 0,
      "outputs": [
        {
          "output_type": "stream",
          "text": [
            "\n",
            "Eigen Values:\n",
            "\n",
            "[29.86606875  0.13393125  0.          0.        ]\n",
            "\n",
            "\n",
            "-----------------\n",
            "\n",
            "Matrix U:\n",
            "\n",
            "[[ 0.81741556 -0.57604844  0.          0.        ]\n",
            " [ 0.57604844  0.81741556  0.          0.        ]\n",
            " [ 0.          0.          0.          1.        ]\n",
            " [ 0.          0.          1.          0.        ]]\n"
          ],
          "name": "stdout"
        }
      ]
    },
    {
      "cell_type": "markdown",
      "metadata": {
        "id": "NszWVf4FEGm9",
        "colab_type": "text"
      },
      "source": [
        "*We need to fill square root of each eigen value (either from AᵀA or AAᵀ) as diagonal elements of vector S. Reshape is needed to transform the eigenValue 1D matrix into a diagonal matrix of n x p. Vectorize runs over each element of the matrix and (here) replaces it with its square root.*"
      ]
    },
    {
      "cell_type": "code",
      "metadata": {
        "id": "0WTROtTAPXzd",
        "colab_type": "code",
        "outputId": "32466ed4-3008-4040-d35e-4d45a9161c0c",
        "colab": {
          "base_uri": "https://localhost:8080/",
          "height": 187
        }
      },
      "source": [
        "matrixS = np.vectorize(math.sqrt, otypes=[float])(eigenValues.reshape(n,1)*np.eye(n,M=p, dtype=int))\n",
        "print(\"\\n\\n-----------------\\n\\nMatrix S:\\n\")\n",
        "print(matrixS)"
      ],
      "execution_count": 0,
      "outputs": [
        {
          "output_type": "stream",
          "text": [
            "\n",
            "\n",
            "-----------------\n",
            "\n",
            "Matrix S:\n",
            "\n",
            "[[5.4649857  0.        ]\n",
            " [0.         0.36596619]\n",
            " [0.         0.        ]\n",
            " [0.         0.        ]]\n"
          ],
          "name": "stdout"
        }
      ]
    },
    {
      "cell_type": "markdown",
      "metadata": {
        "id": "_3PqefyYEFD1",
        "colab_type": "text"
      },
      "source": [
        "*Eigen vector of AAᵀ makes the column of vector U.*\n"
      ]
    },
    {
      "cell_type": "code",
      "metadata": {
        "id": "ihXnNgx6TeTY",
        "colab_type": "code",
        "outputId": "db4e4c23-0993-4f09-e7a8-5dec132f2b2a",
        "colab": {
          "base_uri": "https://localhost:8080/",
          "height": 221
        }
      },
      "source": [
        "eigenValues, eigenVectors = eigen(matrixATA)\n",
        "\n",
        "matrixV = eigenVectors\n",
        "print(\"\\nEigen Values:\\n\")\n",
        "print(eigenValues)\n",
        "\n",
        "print(\"\\n\\n-----------------\\n\\nMatrix V:\\n\")\n",
        "print(matrixV)"
      ],
      "execution_count": 0,
      "outputs": [
        {
          "output_type": "stream",
          "text": [
            "\n",
            "Eigen Values:\n",
            "\n",
            "[29.86606875  0.13393125]\n",
            "\n",
            "\n",
            "-----------------\n",
            "\n",
            "Matrix V:\n",
            "\n",
            "[[-0.40455358 -0.9145143 ]\n",
            " [-0.9145143   0.40455358]]\n"
          ],
          "name": "stdout"
        }
      ]
    },
    {
      "cell_type": "markdown",
      "metadata": {
        "id": "qSjb0N91EncC",
        "colab_type": "text"
      },
      "source": [
        "---\n",
        "\n",
        "*  Comparing the product of decompostion with the original matrix.\n",
        "\n",
        "*  Also, comparing U, S and V with inbuilt svd function of linalg.\n",
        "\n",
        "---\n",
        "\n",
        "\n"
      ]
    },
    {
      "cell_type": "code",
      "metadata": {
        "id": "Iu1gmKGNULZL",
        "colab_type": "code",
        "outputId": "e45a07c9-fd36-4312-9a23-a89b1b45aae8",
        "colab": {
          "base_uri": "https://localhost:8080/",
          "height": 680
        }
      },
      "source": [
        "matrixSVD = matrixU.dot(matrixS).dot(matrixV.transpose())\n",
        "print(\"\\n\\n-----------------\\n\\nMatrix SVD = A ?:\\n\")\n",
        "print(matrixSVD)\n",
        "\n",
        "print(\"\\n\\n-----------------\\n\\nMatrix SVD by formula:\\n\")\n",
        "u,s,vt = la.svd(matrixA)\n",
        "\n",
        "print(\"-----------------\\n\\nMatrix U:\\n\")\n",
        "print(u);\n",
        "\n",
        "print(\"-----------------\\n\\nMatrix S:\\n\")\n",
        "print(s);\n",
        "\n",
        "print(\"\\n\\n-----------------\\n\\nMatrix V:\\n\")\n",
        "print(v);\n"
      ],
      "execution_count": 0,
      "outputs": [
        {
          "output_type": "stream",
          "text": [
            "\n",
            "\n",
            "-----------------\n",
            "\n",
            "Matrix SVD = A ?:\n",
            "\n",
            "[[-1.61441471 -4.17057132]\n",
            " [-1.54714743 -2.75795846]\n",
            " [ 0.          0.        ]\n",
            " [ 0.          0.        ]]\n",
            "\n",
            "\n",
            "-----------------\n",
            "\n",
            "Matrix SVD by formula:\n",
            "\n",
            "-----------------\n",
            "\n",
            "Matrix U:\n",
            "\n",
            "[[-0.81741556 -0.57604844  0.          0.        ]\n",
            " [-0.57604844  0.81741556  0.          0.        ]\n",
            " [ 0.          0.          1.          0.        ]\n",
            " [ 0.          0.          0.          1.        ]]\n",
            "-----------------\n",
            "\n",
            "Matrix S:\n",
            "\n",
            "[5.4649857  0.36596619]\n",
            "\n",
            "\n",
            "-----------------\n",
            "\n",
            "Matrix V:\n",
            "\n",
            "[[ 0.70710678  0.          0.70710678  0.        ]\n",
            " [ 0.          0.70710678  0.          0.70710678]\n",
            " [-0.70710678  0.          0.70710678  0.        ]\n",
            " [ 0.         -0.70710678  0.          0.70710678]]\n"
          ],
          "name": "stdout"
        }
      ]
    }
  ]
}