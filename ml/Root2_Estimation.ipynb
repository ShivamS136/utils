{
  "nbformat": 4,
  "nbformat_minor": 0,
  "metadata": {
    "colab": {
      "name": "Root2-Estimation",
      "version": "0.3.2",
      "provenance": [],
      "collapsed_sections": [],
      "include_colab_link": true
    },
    "kernelspec": {
      "name": "python3",
      "display_name": "Python 3"
    }
  },
  "cells": [
    {
      "cell_type": "markdown",
      "metadata": {
        "id": "view-in-github",
        "colab_type": "text"
      },
      "source": [
        "<a href=\"https://colab.research.google.com/github/paras-lehana/utils/blob/master/ml/Root2_Estimation.ipynb\" target=\"_parent\"><img src=\"https://colab.research.google.com/assets/colab-badge.svg\" alt=\"Open In Colab\"/></a>"
      ]
    },
    {
      "cell_type": "markdown",
      "metadata": {
        "id": "6LMjqbGCL6QR",
        "colab_type": "text"
      },
      "source": [
        "# Estimation of Root 2 using Taylor Series. \n",
        "\n",
        "---\n",
        "\n",
        "\n"
      ]
    },
    {
      "cell_type": "markdown",
      "metadata": {
        "id": "Xj98h1LrMpoE",
        "colab_type": "text"
      },
      "source": [
        "*Read about Taylor Series expansion of sin(x) [here](https://blogs.ubc.ca/infiniteseriesmodule/units/unit-3-power-series/taylor-series/maclaurin-expansion-of-sinx/).*\n",
        "\n",
        "Taylor Series Expansion of `sin(x)` is:\n",
        "\n",
        "\n",
        "![alt text](data:image/png;base64,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)\n",
        "\n",
        "\n",
        "sin(π/4) = 1/√2 = √2/2\n",
        "\n",
        "Thus, we can estimate the value of √2 by calculating the twice of RHS of the expansion given above."
      ]
    },
    {
      "cell_type": "code",
      "metadata": {
        "id": "TGzZo2XH-Xi1",
        "colab_type": "code",
        "colab": {}
      },
      "source": [
        "# For factorial, power, pi\n",
        "import math\n",
        "\n",
        "# For increasing precision and storage capacity for factorial\n",
        "from decimal import Decimal"
      ],
      "execution_count": 0,
      "outputs": []
    },
    {
      "cell_type": "markdown",
      "metadata": {
        "id": "8dDdxdadboFn",
        "colab_type": "text"
      },
      "source": [
        "- Change `max_iterations` for increasing precision. It signifies the n in the expansion. Interestingly, even the value of 10 is enough. \n",
        "\n",
        "- Change or uncomment the Iteration Printing Line to tweak showing of caclulations for few iterations. If you want to disable this, simply set `show_iteration` to `False`."
      ]
    },
    {
      "cell_type": "code",
      "metadata": {
        "id": "DtB9VAmm-oKs",
        "colab_type": "code",
        "outputId": "03423769-b288-4f98-c5b7-b1ccc02808cd",
        "colab": {
          "base_uri": "https://localhost:8080/",
          "height": 136
        }
      },
      "source": [
        "\n",
        "# More the number of iterations, more is the precision\n",
        "max_iterations = 10\n",
        "\n",
        "# Whether to show few iterations as per Iteration Printing Line\n",
        "show_iteration = True\n",
        "\n",
        "# Initializing the sum of sin(x) as 0\n",
        "sinx = Decimal(0.0)\n",
        "\n",
        "# To compare value provided by sqrt function to the estimated one\n",
        "print('Root 2 value from math.sqrt: ', math.sqrt(2), '\\n\\n')\n",
        "\n",
        "# x in sin(x) is pi by 4\n",
        "x = Decimal(math.pi/4)\n",
        "\n",
        "# Each iteration computes the single term of summation                                                                                                                                             \n",
        "for iteration in range(max_iterations):\n",
        "  \n",
        "  # Coefficient is the choice between 1 and -1 for odd/even n\n",
        "  coeff = -1 if iteration & 1 else 1\n",
        "  \n",
        "  # Factorial is the denominator 2n+1, Power is the 2n+1 power x is raised to\n",
        "  factorial = power = 2*iteration + 1\n",
        "  \n",
        "  # The cummulative term is coeff*(x^power/factorial!)\n",
        "  sinx += (Decimal(math.pow(x,power))/Decimal(math.factorial(factorial)))*coeff\n",
        "  \n",
        "  # Iteration Printing Line: This is only to show few iterations. Change or comment as per your own need\n",
        "  if(show_iteration and iteration%10 == 0):\n",
        "    print('Iteration #',iteration,'\\t|\\tcoeff: ',coeff,'\\t|\\tpower,factorial: ',power,'\\t|\\troot2 -> ',Decimal(2*sinx))\n",
        "\n",
        "# Since sin(pi/4), that we have calculated in sin(x), is half of square root of 2, root 2 is 2*sin(x)\n",
        "root2 = Decimal(sinx*2)\n",
        "\n",
        "print('\\n\\n', 'Root 2 after estimation: ',root2)\n",
        "\n",
        "  "
      ],
      "execution_count": 50,
      "outputs": [
        {
          "output_type": "stream",
          "text": [
            "Root 2 value from math.sqrt:  1.4142135623730951 \n",
            "\n",
            "\n",
            "Iteration # 0 \t|\tcoeff:  1 \t|\tpower,factorial:  1 \t|\troot2 ->  1.570796326794896557998981734\n",
            "\n",
            "\n",
            " Root 2 after estimation:  1.414213562373095007604058711\n"
          ],
          "name": "stdout"
        }
      ]
    }
  ]
}