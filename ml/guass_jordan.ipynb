{
  "nbformat": 4,
  "nbformat_minor": 0,
  "metadata": {
    "colab": {
      "name": "guass-jordan",
      "version": "0.3.2",
      "provenance": [],
      "collapsed_sections": [],
      "include_colab_link": true
    },
    "kernelspec": {
      "name": "python3",
      "display_name": "Python 3"
    }
  },
  "cells": [
    {
      "cell_type": "markdown",
      "metadata": {
        "id": "view-in-github",
        "colab_type": "text"
      },
      "source": [
        "<a href=\"https://colab.research.google.com/github/paras-lehana/utils/blob/master/ml/guass_jordan.ipynb\" target=\"_parent\"><img src=\"https://colab.research.google.com/assets/colab-badge.svg\" alt=\"Open In Colab\"/></a>"
      ]
    },
    {
      "cell_type": "code",
      "metadata": {
        "id": "cUzS4Nnajaz8",
        "colab_type": "code",
        "colab": {}
      },
      "source": [
        "import numpy as np"
      ],
      "execution_count": 0,
      "outputs": []
    },
    {
      "cell_type": "markdown",
      "metadata": {
        "id": "Dt40eDmIj1jW",
        "colab_type": "text"
      },
      "source": [
        "Define Augmented Matrix with last columns as constants. "
      ]
    },
    {
      "cell_type": "code",
      "metadata": {
        "id": "ajbent-_jugS",
        "colab_type": "code",
        "outputId": "c4ed9593-5ec4-4978-e4de-70f23a63cd07",
        "colab": {
          "base_uri": "https://localhost:8080/"
        }
      },
      "source": [
        "matrix = np.array([[0,1,2],[1,2,1],[2,7,8]])\n",
        "n,p = np.shape(matrix)\n",
        "\n",
        "print(\"\\n\\n-----------------\\n\\nMatrix A:\\n\")\n",
        "print(matrix[:,:p-1])"
      ],
      "execution_count": 241,
      "outputs": [
        {
          "output_type": "stream",
          "text": [
            "\n",
            "\n",
            "-----------------\n",
            "\n",
            "Matrix A:\n",
            "\n",
            "[[0 1]\n",
            " [1 2]\n",
            " [2 7]]\n"
          ],
          "name": "stdout"
        }
      ]
    },
    {
      "cell_type": "markdown",
      "metadata": {
        "id": "_9xjt3dDkCYI",
        "colab_type": "text"
      },
      "source": [
        "Checking if a matrix is in its Row Echelon Form. The conditions are:\n",
        "\n",
        "1.   All nonzero rows are above any rows of all zeros. (If not satisfied, returns -1)\n",
        "2.   Each leading entry (i.e. first/leftmost nonzero entry) also called a pivot, of a non\n",
        "zero row is in a column to the right of the leading entry of the row above it. (If not satisfied, returns -2)\n",
        "3.   All entries in a column below a leading entry are zero. (If not satisfied, returns -3)\n",
        "\n",
        "If all of three all satisfied, `isREF()` returns 1. "
      ]
    },
    {
      "cell_type": "code",
      "metadata": {
        "id": "PhqSgfkXj90w",
        "colab_type": "code",
        "colab": {}
      },
      "source": [
        "def isREF(matrix):\n",
        "  \n",
        "  n,p = np.shape(matrix)\n",
        "  lastZeroRow = n\n",
        "  lastNonZeroRow = 0\n",
        "  \n",
        "  for rownum, row in enumerate(matrix):\n",
        "    \n",
        "    #Checking for (1): If the last non-zero row is above the first all-zero row.\n",
        "    for ele in row:\n",
        "      if(ele != 0):\n",
        "        lastNonZeroRow = rownum\n",
        "        break\n",
        "      \n",
        "    if(lastNonZeroRow != rownum):\n",
        "      lastZeroRow = rownum\n",
        "    \n",
        "  if(lastZeroRow <= lastNonZeroRow):\n",
        "    return -1;\n",
        "\n",
        "  #Checking for (2): Current row's pivot should be located to the right of upper row's pivot.\n",
        "  \n",
        "  leadingColumnOfAboveRow = -1\n",
        "  \n",
        "  for row in matrix:\n",
        "    for colnum, ele in enumerate(row):\n",
        "      if(ele != 0):\n",
        "        if(colnum <= leadingColumnOfAboveRow):\n",
        "          return -2\n",
        "        leadingColumnOfAboveRow = colnum\n",
        "        break\n",
        "       \n",
        "  \n",
        "  #Checking for (3): Each row's pivot should not have any non-zero entry below itself\n",
        "  \n",
        "  for rownum, row in enumerate(matrix):\n",
        "      for colnum, ele in enumerate(row):\n",
        "        if(ele != 0):\n",
        "          if(np.any(matrix[rownum+1:,colnum])):\n",
        "            return -3\n",
        "          break\n",
        "          \n",
        "  return 1;\n",
        "   \n",
        "   \n",
        "# matrixTest = np.array([[1,2,1],[0,1,2],[0,0,0]])\n",
        "# print(\"\\n\\n-----------------\\n\\nMatrix Test:\\n\")\n",
        "# print(matrixTest)\n",
        "#print(isREF(matrixTest))"
      ],
      "execution_count": 0,
      "outputs": []
    },
    {
      "cell_type": "markdown",
      "metadata": {
        "id": "YQUMVYDhmMo2",
        "colab_type": "text"
      },
      "source": [
        "Checking if a matrix is in its ***Reduced*** Row Echelon Form. The conditions are:\n",
        "\n",
        "1.   The matrix is in row echelon form (If not satisfied, returns -1, -2 or -3 depending on the unsatisfied condition for REF)\n",
        "2.   The leading entry in each row is the only non-zero entry in its column. (If not satisfied, returns -4)\n",
        "3.   All the leading entries should be equal to 1. (If not satisfied, returns -5)\n",
        "\n",
        "If all of three all satisfied, `isRREF()` returns 1. "
      ]
    },
    {
      "cell_type": "code",
      "metadata": {
        "id": "I7nJbPOGkC6R",
        "colab_type": "code",
        "colab": {}
      },
      "source": [
        "\n",
        "def isRREF(matrix):\n",
        "  \n",
        "  #Checking for (1): If the matrix in its Row Echelon Form.\n",
        "  \n",
        "  if(isREF(matrix) != 1):\n",
        "    return isREF(matrix)\n",
        "  \n",
        "  #Checking for (2): Each row's pivot should not have any non-zero entry above itself\n",
        "  \n",
        "  for rownum, row in enumerate(matrix):\n",
        "      for colnum, ele in enumerate(row):\n",
        "        if(ele != 0):\n",
        "          if(np.any(matrix[:rownum,colnum])):\n",
        "            return -4\n",
        "          break\n",
        "  \n",
        "  #Checking for (3): Each row's pivot should be 1.\n",
        "  \n",
        "  for rownum, row in enumerate(matrix):\n",
        "      for colnum, ele in enumerate(row):\n",
        "        if(ele != 0):\n",
        "          if(ele != 1):\n",
        "            return -5\n",
        "          break\n",
        "  \n",
        "  return 1\n",
        "\n",
        "\n",
        "# matrixTest = np.array([[1,2,0,0],[0,0,1,0],[0,0,0,1],[0,0,0,0]])\n",
        "# print(\"\\n\\n-----------------\\n\\nMatrix Test:\\n\")\n",
        "# print(matrixTest)\n",
        "# print(isRREF(matrixTest))"
      ],
      "execution_count": 0,
      "outputs": []
    },
    {
      "cell_type": "markdown",
      "metadata": {
        "id": "HBhsP8bInAF7",
        "colab_type": "text"
      },
      "source": [
        "*Pivot Element is the first non-zero element in the given vector. If `ignoreIndex` is provided, the pivot is computed ignoring indexes till `ignoreIndex`. You can pass both row and column vector. In case pivot is not found, returns -1. Otherwise, returns index and the element.* "
      ]
    },
    {
      "cell_type": "code",
      "metadata": {
        "id": "IF3IDCej6CuE",
        "colab_type": "code",
        "colab": {}
      },
      "source": [
        "def pivot(column,ignoreIndex=0):\n",
        "  for index, ele in enumerate(column[ignoreIndex:],start=ignoreIndex):\n",
        "    if(ele != 0):\n",
        "      return index, ele\n",
        "  return -1, -1"
      ],
      "execution_count": 0,
      "outputs": []
    },
    {
      "cell_type": "markdown",
      "metadata": {
        "id": "Xurx7G8Un4q9",
        "colab_type": "text"
      },
      "source": [
        "Program to convert matrix to Row Echelon Form. Use function ref() if you don't want to output steps. The steps to convert are as follows:\n",
        "\n",
        "\n",
        "1.   Find the pivot of the matrix (the first non-zero entry in the given column of the matrix).\n",
        "2.   Apply row operations and bring the row with pivot element at the top of the matrix.\n",
        "3.   Now we must make the pivot element as 1(not necessary, but makes computations easier),\n",
        "so for that multiply the row with pivot element with the inverse of the pivot element.\n",
        "4.   Add multiples of the pivot row to each of the lower rows, so every element in the pivot\n",
        "column of the lower rows equals 0.\n",
        "5.   Repeat the procedure from Step 1 to 5 above, ignoring previous pivot rows.\n",
        "6.   Continue until there are no more pivots to be processed."
      ]
    },
    {
      "cell_type": "code",
      "metadata": {
        "id": "deUoN2WbytyH",
        "colab_type": "code",
        "colab": {
          "base_uri": "https://localhost:8080/"
        },
        "outputId": "53f2b3f2-a9fa-46bf-8411-60f666722956"
      },
      "source": [
        "swapRow = 0\n",
        "\n",
        "n,p = np.shape(matrix)\n",
        "\n",
        "for colnum, col in enumerate(matrix.T):\n",
        "  \n",
        "  print(\"\\n\\n-----------------\\n-----------------\\nCurrent Column No.: \",colnum)\n",
        "  \n",
        "  if(isRREF(matrix[:,:p-1]) == 1):\n",
        "    break\n",
        "  \n",
        "  print(\"\\n\\n-----------------\\n\\nCurrent Column:\", col)\n",
        "  \n",
        "  pivotRow, pivotElement = pivot(col,swapRow)\n",
        "  \n",
        "  print(\"Pivot Element: \", pivotElement)\n",
        "  \n",
        "  matrix[[swapRow, pivotRow]] = matrix[[pivotRow, swapRow]]\n",
        "  \n",
        "  print(\"\\n\\n-----------------\\n\\nMatrix after Swapping Pivot Row:\\n\")\n",
        "  print(matrix)\n",
        "  \n",
        "  if(pivotElement != 1):\n",
        "    matrix[swapRow] = [ele/pivotElement for ele in matrix[swapRow]]\n",
        "  \n",
        "  print(\"\\n\\n-----------------\\n\\nMatrix after making Pivot Element 1:\\n\")\n",
        "  print(matrix)\n",
        "  \n",
        "  for rownum, ele in enumerate(col[swapRow+1:],start=swapRow+1):\n",
        "    if(ele != 0):\n",
        "      matrix[rownum] = [rowEle-ele*matrix[swapRow,col] for col,rowEle in enumerate(matrix[rownum])]\n",
        "      \n",
        "      \n",
        "  print(\"\\n\\n-----------------\\n\\nMatrix after making elements below Pivot Element 0:\\n\")\n",
        "  print(matrix)\n",
        "  \n",
        "  swapRow = swapRow+1\n",
        "  \n",
        "  \n",
        "print(\"\\n\\n-----------------\\n\\nMatrix after Row Echelon Form:\\n\")\n",
        "print(matrix)\n",
        "\n",
        "def ref(matrix):\n",
        "  \n",
        "  swapRow = 0\n",
        "\n",
        "  for colnum, col in enumerate(matrix.T): #(5): swapRow keeps the count of ignored rows from start.\n",
        "\n",
        "    if(isREF(matrix[:,:p-1]) == 1):\n",
        "      break\n",
        "\n",
        "    pivotRow, pivotElement = pivot(col,swapRow)\n",
        "    matrix[[swapRow, pivotRow]] = matrix[[pivotRow, swapRow]] #(2): Swapping pivot row with the first row after ignored rows.\n",
        "\n",
        "    if(pivotElement != 1):\n",
        "      matrix[swapRow] = [ele/pivotElement for ele in matrix[swapRow]] #(3): Making each element of pivot row (after swapping) equal to one.\n",
        "\n",
        "    for rownum, ele in enumerate(col[swapRow+1:],start=swapRow+1):\n",
        "      if(ele != 0):\n",
        "        matrix[rownum] = [rowEle-ele*matrix[swapRow,col] for col,rowEle in enumerate(matrix[rownum])] #(4): Making elements below in the column of pivot of current row equal to zero.\n",
        "\n",
        "    swapRow = swapRow+1\n",
        "\n",
        "    return matrix\n",
        "  \n"
      ],
      "execution_count": 245,
      "outputs": [
        {
          "output_type": "stream",
          "text": [
            "\n",
            "\n",
            "-----------------\n",
            "-----------------\n",
            "Current Column No.:  0\n",
            "\n",
            "\n",
            "-----------------\n",
            "\n",
            "Current Column: [0 1 2]\n",
            "Pivot Element:  1\n",
            "\n",
            "\n",
            "-----------------\n",
            "\n",
            "Matrix after Swapping Pivot Row:\n",
            "\n",
            "[[1 2 1]\n",
            " [0 1 2]\n",
            " [2 7 8]]\n",
            "\n",
            "\n",
            "-----------------\n",
            "\n",
            "Matrix after making Pivot Element 1:\n",
            "\n",
            "[[1 2 1]\n",
            " [0 1 2]\n",
            " [2 7 8]]\n",
            "\n",
            "\n",
            "-----------------\n",
            "\n",
            "Matrix after making elements below Pivot Element 0:\n",
            "\n",
            "[[1 2 1]\n",
            " [0 1 2]\n",
            " [0 3 6]]\n",
            "\n",
            "\n",
            "-----------------\n",
            "-----------------\n",
            "Current Column No.:  1\n",
            "\n",
            "\n",
            "-----------------\n",
            "\n",
            "Current Column: [2 1 3]\n",
            "Pivot Element:  1\n",
            "\n",
            "\n",
            "-----------------\n",
            "\n",
            "Matrix after Swapping Pivot Row:\n",
            "\n",
            "[[1 2 1]\n",
            " [0 1 2]\n",
            " [0 3 6]]\n",
            "\n",
            "\n",
            "-----------------\n",
            "\n",
            "Matrix after making Pivot Element 1:\n",
            "\n",
            "[[1 2 1]\n",
            " [0 1 2]\n",
            " [0 3 6]]\n",
            "\n",
            "\n",
            "-----------------\n",
            "\n",
            "Matrix after making elements below Pivot Element 0:\n",
            "\n",
            "[[1 2 1]\n",
            " [0 1 2]\n",
            " [0 0 0]]\n",
            "\n",
            "\n",
            "-----------------\n",
            "-----------------\n",
            "Current Column No.:  2\n",
            "\n",
            "\n",
            "-----------------\n",
            "\n",
            "Current Column: [1 2 0]\n",
            "Pivot Element:  -1\n",
            "\n",
            "\n",
            "-----------------\n",
            "\n",
            "Matrix after Swapping Pivot Row:\n",
            "\n",
            "[[1 2 1]\n",
            " [0 1 2]\n",
            " [0 0 0]]\n",
            "\n",
            "\n",
            "-----------------\n",
            "\n",
            "Matrix after making Pivot Element 1:\n",
            "\n",
            "[[1 2 1]\n",
            " [0 1 2]\n",
            " [0 0 0]]\n",
            "\n",
            "\n",
            "-----------------\n",
            "\n",
            "Matrix after making elements below Pivot Element 0:\n",
            "\n",
            "[[1 2 1]\n",
            " [0 1 2]\n",
            " [0 0 0]]\n",
            "\n",
            "\n",
            "-----------------\n",
            "\n",
            "Matrix after Row Echelon Form:\n",
            "\n",
            "[[1 2 1]\n",
            " [0 1 2]\n",
            " [0 0 0]]\n"
          ],
          "name": "stdout"
        }
      ]
    },
    {
      "cell_type": "markdown",
      "metadata": {
        "id": "y9xIewl7pdBR",
        "colab_type": "text"
      },
      "source": [
        "Program to convert matrix to **Reduced** Row Echelon Form. Use function `rref()` if you don't want to output steps. The steps to convert are as follows:\n",
        "\n",
        "\n",
        "\n",
        "1.   Convert to Row Echelon Form first.\n",
        "2.   Identify the last row having a pivot equal to 1, and let this be the pivot row.\n",
        "3.   Add multiples of the pivot row to each of the upper rows, until every element above\n",
        "the pivot equals 0.\n",
        "4.   Moving up the matrix, repeat this process for each row."
      ]
    },
    {
      "cell_type": "code",
      "metadata": {
        "id": "RJ4x80-6fJf7",
        "colab_type": "code",
        "colab": {
          "base_uri": "https://localhost:8080/",
          "height": 782
        },
        "outputId": "5d904478-a59f-4a13-853b-426e659494dd"
      },
      "source": [
        "for rownum in reversed(range(n)):\n",
        "  print(\"\\n\\n-----------------\\n-----------------\\nCurrent Row No.: \", rownum)\n",
        "  \n",
        "  if(isRREF(matrix[:,:p-1]) == 1):\n",
        "    break\n",
        "    \n",
        "  print(\"\\n\\n-----------------\\n\\nCurrent Row:\", matrix[rownum,:])\n",
        "  \n",
        "  pivotColumn, pivotElement = pivot(matrix[rownum,:])\n",
        "  \n",
        "  print(\"Pivot Element: \", pivotElement)\n",
        "  \n",
        "  if(pivotColumn == -1 or rownum == 0):\n",
        "    continue\n",
        "    \n",
        "  for upperRownum, ele in enumerate(matrix[:rownum,pivotColumn]):\n",
        "    if(ele != 0):\n",
        "      matrix[upperRownum] = [rowEle-ele*matrix[rownum,col] for col,rowEle in enumerate(matrix[upperRownum])]\n",
        "      \n",
        "  print(\"\\n\\n-----------------\\n\\nMatrix after making elements above Pivot Element 0:\\n\")\n",
        "  print(matrix)\n",
        "  \n",
        "  \n",
        "print(\"\\n\\n-----------------\\n\\nMatrix after Reduced Row Echelon Form:\\n\")\n",
        "print(matrix)\n",
        "\n",
        "\n",
        "\n",
        "def rref(matrix):\n",
        "  matrix = ref(matrix[:,:p-1]) #(1): Convert to ref.\n",
        "  \n",
        "  for rownum in reversed(range(n)): #(4): Itering from last row, columns in order\n",
        "\n",
        "    if(isRREF(matrix) == 1):\n",
        "      break\n",
        "\n",
        "    pivotColumn, pivotElement = pivot(matrix[rownum,:]) #(2): Calculating pivot element of current column\n",
        "\n",
        "    print(\"Pivot Element: \", pivotElement)\n",
        "\n",
        "    if(pivotColumn == -1 or rownum == 0): #In case pivot element is not found or we have reached to the first row\n",
        "      continue\n",
        "\n",
        "    for upperRownum, ele in enumerate(matrix[:rownum,pivotColumn]):\n",
        "      if(ele != 0):\n",
        "        matrix[upperRownum] = [rowEle-ele*matrix[rownum,col] for col,rowEle in enumerate(matrix[upperRownum])] #(3): Making elements above in the column of pivot of current row equal to zero.\n",
        "\n",
        "    return matrix\n",
        "  "
      ],
      "execution_count": 246,
      "outputs": [
        {
          "output_type": "stream",
          "text": [
            "\n",
            "\n",
            "-----------------\n",
            "-----------------\n",
            "Current Row No.:  2\n",
            "\n",
            "\n",
            "-----------------\n",
            "\n",
            "Current Row: [0 0 0]\n",
            "Pivot Element:  -1\n",
            "\n",
            "\n",
            "-----------------\n",
            "-----------------\n",
            "Current Row No.:  1\n",
            "\n",
            "\n",
            "-----------------\n",
            "\n",
            "Current Row: [0 1 2]\n",
            "Pivot Element:  1\n",
            "\n",
            "\n",
            "-----------------\n",
            "\n",
            "Matrix after making elements above Pivot Element 0:\n",
            "\n",
            "[[ 1  0 -3]\n",
            " [ 0  1  2]\n",
            " [ 0  0  0]]\n",
            "\n",
            "\n",
            "-----------------\n",
            "-----------------\n",
            "Current Row No.:  0\n",
            "\n",
            "\n",
            "-----------------\n",
            "\n",
            "Matrix after Reduced Row Echelon Form:\n",
            "\n",
            "[[ 1  0 -3]\n",
            " [ 0  1  2]\n",
            " [ 0  0  0]]\n"
          ],
          "name": "stdout"
        }
      ]
    },
    {
      "cell_type": "markdown",
      "metadata": {
        "id": "UdDjxYMVqlRb",
        "colab_type": "text"
      },
      "source": [
        "Now that we are ready with rref of Matrix, we can deduce solution as follows:\n",
        "\n",
        "\n",
        "1.   If there are all non-zero rows in the matrix leaving last column, infinite solutions.\n",
        "2.   If not (1) and there are one or more non-zero rows, no solution.\n",
        "3.   If there are no non-zero row, solution is generated using the last column."
      ]
    },
    {
      "cell_type": "code",
      "metadata": {
        "id": "8fWsvgGwgHHV",
        "colab_type": "code",
        "colab": {
          "base_uri": "https://localhost:8080/"
        },
        "outputId": "baf42eb7-b7a3-456b-dc1a-cbe27fd74163"
      },
      "source": [
        "for rownum in range(n):\n",
        "  nosol = 0\n",
        "  \n",
        "  if(matrix[rownum,rownum] == 1):\n",
        "    print(chr(ord('a')+rownum),': ',matrix[rownum,p-1])\n",
        "  else:\n",
        "    nosol = nosol + 1\n",
        "    \n",
        "if(nosol == n):\n",
        "  print(\"\\nInfinite Solutions\")\n",
        "elif(nosol != 0):\n",
        "  print(\"\\nNo Solution\")"
      ],
      "execution_count": 247,
      "outputs": [
        {
          "output_type": "stream",
          "text": [
            "a :  -3\n",
            "b :  2\n",
            "\n",
            "No Solution\n"
          ],
          "name": "stdout"
        }
      ]
    }
  ]
}